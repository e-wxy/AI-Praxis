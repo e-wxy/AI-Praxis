{
 "cells": [
  {
   "cell_type": "markdown",
   "metadata": {},
   "source": [
    "# Model Evaluation"
   ]
  },
  {
   "cell_type": "code",
   "execution_count": 1,
   "metadata": {},
   "outputs": [],
   "source": [
    "import torch\n",
    "import os\n",
    "import utils\n",
    "\n",
    "import warnings\n",
    "warnings.filterwarnings('ignore')"
   ]
  },
  {
   "cell_type": "markdown",
   "metadata": {},
   "source": [
    "## Prepare Test Set"
   ]
  },
  {
   "cell_type": "code",
   "execution_count": 2,
   "metadata": {},
   "outputs": [],
   "source": [
    "# path of img data\n",
    "pth_test = 'Data/ISIC2017/ISIC-2017_Test_Data'\n",
    "ann_test = utils.Annotation('Data/ISIC2017/ISIC-2017_Test_v2_Part3_GroundTruth.csv')"
   ]
  },
  {
   "cell_type": "code",
   "execution_count": 3,
   "metadata": {},
   "outputs": [],
   "source": [
    "from torchvision import transforms\n",
    "from torch.utils import data\n",
    "\n",
    "transform = transforms.Compose([transforms.Resize((224, 224)),\n",
    "                                transforms.ToTensor(),\n",
    "                                transforms.Normalize([0.485, 0.456, 0.406],\n",
    "                                                     [0.229, 0.224, 0.225])\n",
    "                                ])"
   ]
  },
  {
   "cell_type": "code",
   "execution_count": 4,
   "metadata": {},
   "outputs": [],
   "source": [
    "from PIL import Image\n",
    "import random\n",
    "\n",
    "\n",
    "class TestData(data.Dataset):\n",
    "    def __init__(self, annotations, img_dir: str, transform=None, target_transform=None):\n",
    "        self.img_labels = annotations\n",
    "        self.img_dir = img_dir\n",
    "        self.transform = transform\n",
    "        self.target_transform = target_transform\n",
    "        self.scales = [1/5, 2/5, 3/5, 4/5]\n",
    "\n",
    "    def __len__(self):\n",
    "        return len(self.img_labels)\n",
    "\n",
    "    def __getitem__(self, idx: int):\n",
    "        idx_sample = idx\n",
    "        img_path = os.path.join(self.img_dir, self.img_labels.image_id[idx_sample] + '.jpg')\n",
    "        image = Image.open(img_path)\n",
    "        image = self.rescale_crop(image)\n",
    "        target = self.img_labels['label'].iloc[idx_sample]\n",
    "        if self.transform:\n",
    "            image = self.transform(image)\n",
    "        if self.target_transform:\n",
    "            target = self.target_transform(target)\n",
    "        return image, target\n",
    "\n",
    "    def rescale_crop(self, image):\n",
    "        scale = self.scales[random.randint(0, 3)]\n",
    "        w, h = image.size\n",
    "        if scale > 2/3:\n",
    "            trans = transforms.RandomCrop((int(h * scale), int(w * scale)), pad_if_needed=True, padding_mode='edge')\n",
    "        else:\n",
    "            trans = transforms.Compose([\n",
    "            transforms.CenterCrop((int(h - h * (1 - scale)**2), int(w - w * (1 - scale)**2))),\n",
    "            transforms.RandomCrop((int(h * scale), int(w * scale)), pad_if_needed=True, padding_mode='edge'),\n",
    "        ])\n",
    "\n",
    "        img = trans(image)\n",
    "\n",
    "        return img"
   ]
  },
  {
   "cell_type": "code",
   "execution_count": 5,
   "metadata": {},
   "outputs": [],
   "source": [
    "# create test dataset\n",
    "test_data = TestData(ann_test.df, pth_test, transform=transform)\n",
    "test_loader = data.DataLoader(test_data, batch_size=32, shuffle=False)"
   ]
  },
  {
   "cell_type": "markdown",
   "metadata": {},
   "source": [
    "## Load Model"
   ]
  },
  {
   "cell_type": "code",
   "execution_count": 6,
   "metadata": {},
   "outputs": [
    {
     "name": "stdout",
     "output_type": "stream",
     "text": [
      "cuda\n"
     ]
    }
   ],
   "source": [
    "# GPU setting\n",
    "device = torch.device(\"cuda\" if torch.cuda.is_available() else \"cpu\")\n",
    "print(device)"
   ]
  },
  {
   "cell_type": "code",
   "execution_count": 7,
   "metadata": {},
   "outputs": [
    {
     "name": "stdout",
     "output_type": "stream",
     "text": [
      "Load arl50.pkl on cuda successfully.\n"
     ]
    }
   ],
   "source": [
    "# import nets\n",
    "# model = nets.arlnet50(num_classes=3)\n",
    "# model = utils.load_state_dict(model, device, name='state_dict.pth')\n",
    "\n",
    "model = utils.load_model(device, name='arl50.pkl')"
   ]
  },
  {
   "cell_type": "markdown",
   "metadata": {},
   "source": [
    "## Evaluation\n",
    "In the test stage, we used the same patch extraction method to randomly crop nine patches from each test image, fed them to the trained network, and averaged the obtained scores as the predicted score of the image.\n",
    "\n",
    "### Quantitative"
   ]
  },
  {
   "cell_type": "code",
   "execution_count": 8,
   "metadata": {},
   "outputs": [],
   "source": [
    "import torch.nn as nn\n",
    "import numpy as np\n",
    "\n",
    "@torch.no_grad()\n",
    "def get_probs(model, data_loader, device):\n",
    "    \"\"\" make predictions on datasets\n",
    "\n",
    "    Returns:\n",
    "        lists of labels and predictions\n",
    "    \"\"\"\n",
    "    model.eval()\n",
    "    label = []\n",
    "    prob = [[1 for _ in range(3)]]\n",
    "    soft = nn.Softmax(dim=-1)\n",
    "\n",
    "    for x, y in data_loader:\n",
    "        x, y = x.to(device), y.to(device)\n",
    "        z = model(x)\n",
    "        p = soft(z)\n",
    "        # _, yhat = torch.max(z.data, 1)\n",
    "        label = np.concatenate((label, y.to('cpu')), axis=-1)\n",
    "        prob = np.concatenate((prob, p.to('cpu')), axis=-2)\n",
    "    prob = prob[1::]\n",
    "\n",
    "    return label, prob\n",
    "\n",
    "label, probs = get_probs(model, test_loader, device)\n",
    "probs = [probs]\n",
    "\n",
    "for _ in range(8):\n",
    "    _, prob = get_probs(model, test_loader, device)\n",
    "    probs.append(prob)\n",
    "\n",
    "prob = np.mean(probs, axis=0)\n",
    "pred = np.argmax(prob, 1)"
   ]
  },
  {
   "cell_type": "code",
   "execution_count": 9,
   "metadata": {},
   "outputs": [
    {
     "name": "stdout",
     "output_type": "stream",
     "text": [
      "                      precision    recall  f1-score   support\n",
      "\n",
      "            melanoma       0.65      0.50      0.57       117\n",
      "seborrheic_keratosis       0.75      0.63      0.69        90\n",
      "              benign       0.82      0.91      0.86       393\n",
      "\n",
      "            accuracy                           0.79       600\n",
      "           macro avg       0.74      0.68      0.71       600\n",
      "        weighted avg       0.78      0.79      0.78       600\n",
      "\n"
     ]
    },
    {
     "data": {
      "image/png": "[encoded data removed]",
      "text/plain": [
       "<Figure size 1200x500 with 4 Axes>"
      ]
     },
     "metadata": {
      "needs_background": "light"
     },
     "output_type": "display_data"
    }
   ],
   "source": [
    "from sklearn import metrics\n",
    "\n",
    "report = metrics.classification_report(label, pred, target_names=ann_test.categories)\n",
    "print(report)\n",
    "\n",
    "cf_matrix = utils.get_confusion(label, pred, ann_test.categories)\n",
    "utils.draw_confusion(cf_matrix)"
   ]
  },
  {
   "cell_type": "markdown",
   "metadata": {},
   "source": [
    "## Qualitative"
   ]
  }
 ],
 "metadata": {
  "interpreter": {
   "hash": "06bb3c3ef4a880548ecfc5dc8501d178eb29b729421bcd01924945e985691c69"
  },
  "kernelspec": {
   "display_name": "Python (lab)",
   "language": "python",
   "name": "lab"
  },
  "language_info": {
   "codemirror_mode": {
    "name": "ipython",
    "version": 3
   },
   "file_extension": ".py",
   "mimetype": "text/x-python",
   "name": "python",
   "nbconvert_exporter": "python",
   "pygments_lexer": "ipython3",
   "version": "3.8.0"
  }
 },
 "nbformat": 4,
 "nbformat_minor": 4
}
