{
 "cells": [
  {
   "cell_type": "markdown",
   "metadata": {
    "id": "l5i3N-weKP6-",
    "papermill": {
     "duration": 0.022866,
     "end_time": "2021-02-18T10:06:03.865074",
     "exception": false,
     "start_time": "2021-02-18T10:06:03.842208",
     "status": "completed"
    },
    "tags": []
   },
   "source": [
    "# Import & Settings"
   ]
  },
  {
   "cell_type": "code",
   "execution_count": null,
   "metadata": {
    "id": "kFSYoYRqJSfB",
    "papermill": {
     "duration": 23.025453,
     "end_time": "2021-02-18T10:06:26.911588",
     "exception": false,
     "start_time": "2021-02-18T10:06:03.886135",
     "status": "completed"
    },
    "tags": []
   },
   "outputs": [],
   "source": [
    "import torch\n",
    "import numpy as np\n",
    "import os\n",
    "import segmentation_models_pytorch as smp\n",
    "import utils\n",
    "\n",
    "import warnings\n",
    "warnings.filterwarnings('ignore')"
   ]
  },
  {
   "cell_type": "code",
   "execution_count": null,
   "metadata": {},
   "outputs": [],
   "source": [
    "device = torch.device(\"cuda\" if torch.cuda.is_available() else \"cpu\")\n",
    "\n",
    "BATCH_SIZE = 16\n",
    "NUM_WORKERS = 0 \n",
    "WIDTH = 336  # 512\n",
    "HEIGHT = 224 # 384"
   ]
  },
  {
   "cell_type": "code",
   "execution_count": null,
   "metadata": {},
   "outputs": [],
   "source": [
    "model_id = 1\n",
    "title = 'unet'\n",
    "model_name = title + '_' + str(model_id)\n",
    "log = utils.Logger(verbose=True, title=os.path.join('seg', title))\n",
    "log.logger.info(\"{}\".format(model_name))"
   ]
  },
  {
   "cell_type": "markdown",
   "metadata": {
    "id": "dkjFEoe7JSfo",
    "papermill": {
     "duration": 0.030107,
     "end_time": "2021-02-18T10:06:31.656378",
     "exception": false,
     "start_time": "2021-02-18T10:06:31.626271",
     "status": "completed"
    },
    "tags": []
   },
   "source": [
    "# Data Preparation"
   ]
  },
  {
   "cell_type": "code",
   "execution_count": null,
   "metadata": {
    "jupyter": {
     "source_hidden": true
    }
   },
   "outputs": [],
   "source": [
    "# path of img data\n",
    "pth_train_img = 'Data/ISIC2017/Aug_Training_Data'\n",
    "pth_valid_img = 'Data/ISIC2017/ISIC-2017_Validation_Data'\n",
    "pth_test_img = 'Data/ISIC2017/ISIC-2017_Test_Data'\n",
    "pth_train_mask = 'Data/ISIC2017/ISIC-2017_Training_Part1_GroundTruth'\n",
    "pth_valid_mask = 'Data/ISIC2017/ISIC-2017_Validation_Part1_GroundTruth'\n",
    "pth_test_mask = 'Data/ISIC2017/ISIC-2017_Test_v2_Part1_GroundTruth'\n",
    "\n",
    "\n",
    "ann_train = 'Data/ISIC2017/ISIC-2017_Training_Part3_GroundTruth.csv'\n",
    "ann_valid = 'Data/ISIC2017/ISIC-2017_Validation_Part3_GroundTruth.csv'\n",
    "ann_test = 'Data/ISIC2017/ISIC-2017_Test_v2_Part3_GroundTruth.csv'"
   ]
  },
  {
   "cell_type": "code",
   "execution_count": null,
   "metadata": {},
   "outputs": [],
   "source": [
    "from torch.utils import data\n",
    "import albumentations as A\n",
    "from torchvision import transforms\n",
    "\n",
    "# Augmentation transforms for both images and masks\n",
    "# https://github.com/albumentations-team/albumentations#spatial-level-transforms\n",
    "trans_train = A.Compose([# A.ElasticTransform(),\n",
    "                         A.RandomResizedCrop(width=WIDTH, height=HEIGHT, scale=(0.6, 1.3), ratio=(0.75, 1.3333333333333333)),\n",
    "                         A.Flip(p=0.5),\n",
    "                         A.Rotate(limit=180),\n",
    "                         # A.Sharpen(),\n",
    "                         # A.ColorJitter(),\n",
    "                         A.GaussNoise(),\n",
    "                         ])\n",
    "\n",
    "trans_test = A.Compose([A.Resize(height=int(HEIGHT*1.1), width=int(WIDTH*1.1)),\n",
    "                        A.CenterCrop(height=HEIGHT, width=WIDTH)\n",
    "                        ])\n",
    "\n",
    "# normalization\n",
    "trans_img = transforms.Compose([transforms.ToTensor(),\n",
    "                                transforms.Normalize([0.485, 0.456, 0.406],\n",
    "                                                     [0.229, 0.224, 0.225])\n",
    "                                ])\n",
    "\n",
    "\n",
    "def trans_mask(mask):\n",
    "    return torch.as_tensor(np.array(mask/255), dtype=torch.int64)"
   ]
  },
  {
   "cell_type": "code",
   "execution_count": null,
   "metadata": {
    "jupyter": {
     "source_hidden": true
    }
   },
   "outputs": [],
   "source": [
    "train_data = utils.SegData(ann_train, pth_train_img, pth_train_mask, trans_train, trans_img, trans_mask)\n",
    "valid_data = utils.SegData(ann_valid, pth_valid_img, pth_valid_mask, trans_test, trans_img, trans_mask)\n",
    "\n",
    "train_loader = data.DataLoader(train_data, BATCH_SIZE, shuffle=True, num_workers=NUM_WORKERS, drop_last=True)\n",
    "valid_loader = data.DataLoader(valid_data, BATCH_SIZE, shuffle=False, num_workers=NUM_WORKERS)"
   ]
  },
  {
   "cell_type": "code",
   "execution_count": null,
   "metadata": {
    "jupyter": {
     "source_hidden": true
    }
   },
   "outputs": [],
   "source": [
    "from utils.visualize import show_seg_samples\n",
    "\n",
    "x, y = next(iter(valid_loader))\n",
    "show_seg_samples(x, y, title=\"Segmentation Examples\")"
   ]
  },
  {
   "cell_type": "markdown",
   "metadata": {
    "id": "jJ-ZypiFJSgJ",
    "papermill": {
     "duration": 0.029797,
     "end_time": "2021-02-18T10:06:31.864199",
     "exception": false,
     "start_time": "2021-02-18T10:06:31.834402",
     "status": "completed"
    },
    "tags": []
   },
   "source": [
    "# Model Design"
   ]
  },
  {
   "cell_type": "markdown",
   "metadata": {},
   "source": [
    "Dense-UNet / Res-UNet"
   ]
  },
  {
   "cell_type": "raw",
   "metadata": {
    "id": "ZXb8nBmpJSgK",
    "outputId": "167e4afc-a54d-455b-ed0e-328558cfe23f",
    "papermill": {
     "duration": 0.637787,
     "end_time": "2021-02-18T10:06:32.532384",
     "exception": false,
     "start_time": "2021-02-18T10:06:31.894597",
     "status": "completed"
    },
    "tags": []
   },
   "source": [
    "# https://smp.readthedocs.io/en/latest/encoders.html\n",
    "encoder = 'resnet18' # 'densenet121'\n",
    "decoder_channels = [512, 256, 128, 64]\n",
    "\n",
    "model = smp.Unet(encoder, encoder_weights='imagenet', classes=2, activation=None, encoder_depth=len(decoder_channels), decoder_channels=decoder_channels)\n",
    "log.logger.info(\"Encoder: {} | Decoder Channels: {} | Size: ({}, {})\".format(encoder, decoder_channels, WIDTH, HEIGHT))"
   ]
  },
  {
   "cell_type": "markdown",
   "metadata": {},
   "source": [
    "UNet"
   ]
  },
  {
   "cell_type": "raw",
   "metadata": {},
   "source": [
    "from nets import UNet\n",
    "\n",
    "model = UNet(3, 2)\n",
    "log.logger.info(\"UNet | Size: ({}, {})\".format(WIDTH, HEIGHT))"
   ]
  },
  {
   "cell_type": "markdown",
   "metadata": {},
   "source": [
    "ARL-UNet"
   ]
  },
  {
   "cell_type": "code",
   "execution_count": null,
   "metadata": {},
   "outputs": [],
   "source": [
    "from nets import arlunet\n",
    "\n",
    "model = arlunet(pretrained='arl18')\n",
    "log.logger.info(\"ARL-UNet | Size: ({}, {})\".format(WIDTH, HEIGHT))"
   ]
  },
  {
   "cell_type": "code",
   "execution_count": null,
   "metadata": {
    "id": "32nY_jBWJSgN",
    "papermill": {
     "duration": 0.043393,
     "end_time": "2021-02-18T10:06:32.607492",
     "exception": false,
     "start_time": "2021-02-18T10:06:32.564099",
     "status": "completed"
    },
    "scrolled": true,
    "tags": []
   },
   "outputs": [],
   "source": [
    "model.to(device)"
   ]
  },
  {
   "cell_type": "markdown",
   "metadata": {
    "id": "ncudHa0UJSgQ",
    "papermill": {
     "duration": 0.031715,
     "end_time": "2021-02-18T10:06:32.670851",
     "exception": false,
     "start_time": "2021-02-18T10:06:32.639136",
     "status": "completed"
    },
    "tags": []
   },
   "source": [
    "# Training"
   ]
  },
  {
   "cell_type": "code",
   "execution_count": null,
   "metadata": {
    "scrolled": true
   },
   "outputs": [],
   "source": [
    "init_lr = 1e-4\n",
    "weight_decay = 1e-4\n",
    "max_epoch = 150\n",
    "test_period = 1\n",
    "early_threshold = 45\n",
    "\n",
    "criterion = utils.DiceCE()\n",
    "optimizer = torch.optim.AdamW(model.parameters(), lr=init_lr, weight_decay=weight_decay)\n",
    "scheduler = torch.optim.lr_scheduler.CosineAnnealingLR(optimizer, T_max=max_epoch, eta_min=0)\n",
    "\n",
    "log.logger.info(\"Criterion: {}\\nOptimizer: {}\\nScheduler: {}\".format(criterion, optimizer, scheduler))\n",
    "\n",
    "trainer = utils.SegTrain(device, log, model_name, optimizer, scheduler, 0, 0, None)\n",
    "\n",
    "acc, iou = trainer.eval(model, valid_loader)\n",
    "log.logger.info(\"Initial Performance on Valid Set: Acc: {}, IoU: {}\".format(acc, iou))\n",
    "\n",
    "history = trainer.fit(model, train_loader, valid_loader, criterion, max_epoch, test_period, early_threshold)"
   ]
  },
  {
   "cell_type": "code",
   "execution_count": null,
   "metadata": {
    "id": "ojw74huJJSgn",
    "jupyter": {
     "source_hidden": true
    },
    "papermill": {
     "duration": 0.094126,
     "end_time": "2021-02-18T11:11:15.563574",
     "exception": false,
     "start_time": "2021-02-18T11:11:15.469448",
     "status": "completed"
    },
    "tags": []
   },
   "outputs": [],
   "source": [
    "import matplotlib.pyplot as plt\n",
    "\n",
    "if not os.path.exists('fig'):\n",
    "    os.makedirs('fig')\n",
    "\n",
    "def plot_loss(history):\n",
    "    plt.figure(dpi=100)\n",
    "    plt.plot(history['costs'])\n",
    "    plt.title('Loss')\n",
    "    plt.xlabel('Epoch')\n",
    "    plt.grid(axis='y')\n",
    "    plt.savefig('fig/{}_loss.png'.format(model_name))\n",
    "    plt.show()\n",
    "    \n",
    "def plot_score(history):\n",
    "    plt.figure(dpi=100)\n",
    "    plt.plot(history['train_ious'], label='train_mIoU')\n",
    "    plt.plot(history['val_ious'], label='val_mIoU')\n",
    "    plt.title('Mean IoU')\n",
    "    plt.xlabel('Epoch')\n",
    "    plt.legend()\n",
    "    plt.grid(axis='y')\n",
    "    plt.savefig('fig/{}_iou.png'.format(model_name))\n",
    "    plt.show()\n",
    "    \n",
    "def plot_acc(history):\n",
    "    plt.figure(dpi=100)\n",
    "    plt.plot(history['train_accs'], label='train_accuracy')\n",
    "    plt.plot(history['val_accs'], label='val_accuracy')\n",
    "    plt.title('Pixel Accurary')\n",
    "    plt.xlabel('Epoch')\n",
    "    plt.legend()\n",
    "    plt.grid(axis='y')\n",
    "    plt.savefig('fig/{}_acc.png'.format(model_name))\n",
    "    plt.show()"
   ]
  },
  {
   "cell_type": "code",
   "execution_count": null,
   "metadata": {
    "id": "KT-pRvoJJSgq",
    "outputId": "76a82c62-46ca-44db-9129-8d20ec586471",
    "papermill": {
     "duration": 0.71827,
     "end_time": "2021-02-18T11:11:16.361999",
     "exception": false,
     "start_time": "2021-02-18T11:11:15.643729",
     "status": "completed"
    },
    "tags": []
   },
   "outputs": [],
   "source": [
    "plot_loss(history)\n",
    "plot_score(history)\n",
    "plot_acc(history)"
   ]
  },
  {
   "cell_type": "markdown",
   "metadata": {
    "id": "6BdSV7zxJSgu",
    "papermill": {
     "duration": 0.049339,
     "end_time": "2021-02-18T11:11:16.461916",
     "exception": false,
     "start_time": "2021-02-18T11:11:16.412577",
     "status": "completed"
    },
    "tags": []
   },
   "source": [
    "# Evaluation"
   ]
  },
  {
   "cell_type": "code",
   "execution_count": null,
   "metadata": {
    "papermill": {
     "duration": 0.060719,
     "end_time": "2021-02-18T11:11:16.785872",
     "exception": false,
     "start_time": "2021-02-18T11:11:16.725153",
     "status": "completed"
    },
    "tags": []
   },
   "outputs": [],
   "source": [
    "from utils.evaluation import pixel_accuracy, pixel_sensitivity, pixel_specificity, mIoU, mDSC, mTJI, seg_predict\n",
    "\n",
    "del train_loader, valid_loader\n",
    "\n",
    "test_data = utils.SegData(ann_test, pth_test_img, pth_test_mask, trans_test, trans_img, trans_mask)\n",
    "test_loader = data.DataLoader(test_data, BATCH_SIZE, shuffle=False, num_workers=NUM_WORKERS)"
   ]
  },
  {
   "cell_type": "code",
   "execution_count": null,
   "metadata": {
    "scrolled": true
   },
   "outputs": [],
   "source": [
    "# model = utils.load_model(device, name=\"dense_unet_1.pkl\")\n",
    "# model"
   ]
  },
  {
   "cell_type": "code",
   "execution_count": null,
   "metadata": {},
   "outputs": [],
   "source": [
    "mask, pred_mask = seg_predict(model, test_loader)"
   ]
  },
  {
   "cell_type": "code",
   "execution_count": null,
   "metadata": {},
   "outputs": [],
   "source": [
    "pixel_acc = pixel_accuracy(pred_mask, mask)\n",
    "log.logger.info(\"Pixel Accuracy: {}\".format(pixel_acc))\n",
    "\n",
    "pixel_se = pixel_sensitivity(pred_mask, mask)\n",
    "log.logger.info(\"Pixel Sensitivity: {}\".format(pixel_se))\n",
    "\n",
    "pixel_sp = pixel_specificity(pred_mask, mask)\n",
    "log.logger.info(\"Pixel Specificity: {}\".format(pixel_sp))\n",
    "\n",
    "iou_score = mIoU(pred_mask, mask)\n",
    "log.logger.info(\"Mean IoU: {}\".format(iou_score))\n",
    "\n",
    "dsc_score = mDSC(pred_mask, mask)\n",
    "log.logger.info(\"Mean DSC: {}\".format(dsc_score))\n",
    "\n",
    "tji_score = mTJI(pred_mask, mask)\n",
    "log.logger.info(\"Mean TJI: {}\".format(tji_score))"
   ]
  },
  {
   "cell_type": "code",
   "execution_count": null,
   "metadata": {},
   "outputs": [],
   "source": [
    "x, y = next(iter(test_loader))\n",
    "pred = model(x.to(device))\n",
    "pred = torch.argmax(pred, dim=1).to('cpu')\n",
    "show_seg_samples(x, pred, title=\"Predictions\")"
   ]
  },
  {
   "cell_type": "code",
   "execution_count": null,
   "metadata": {},
   "outputs": [],
   "source": [
    "show_seg_samples(x, y, title=\"GroundTruths\")"
   ]
  }
 ],
 "metadata": {
  "interpreter": {
   "hash": "06bb3c3ef4a880548ecfc5dc8501d178eb29b729421bcd01924945e985691c69"
  },
  "kernelspec": {
   "display_name": "Python(ARL)",
   "language": "python",
   "name": "arl"
  },
  "language_info": {
   "codemirror_mode": {
    "name": "ipython",
    "version": 3
   },
   "file_extension": ".py",
   "mimetype": "text/x-python",
   "name": "python",
   "nbconvert_exporter": "python",
   "pygments_lexer": "ipython3",
   "version": "3.8.0"
  }
 },
 "nbformat": 4,
 "nbformat_minor": 4
}
