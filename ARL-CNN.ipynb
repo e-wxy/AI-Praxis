{
 "cells": [
  {
   "cell_type": "code",
   "execution_count": null,
   "metadata": {},
   "outputs": [],
   "source": [
    "import torch\n",
    "\n",
    "import utils\n",
    "\n",
    "import warnings\n",
    "warnings.filterwarnings('ignore')"
   ]
  },
  {
   "cell_type": "code",
   "execution_count": null,
   "metadata": {},
   "outputs": [],
   "source": [
    "# log file\n",
    "\n",
    "log = utils.Logger(verbose=True, title='arl')\n",
    "log.logger.info(\"1-1 ARL50\")"
   ]
  },
  {
   "cell_type": "markdown",
   "metadata": {},
   "source": [
    "## Data Preparation"
   ]
  },
  {
   "cell_type": "code",
   "execution_count": null,
   "metadata": {},
   "outputs": [],
   "source": [
    "# path of img data\n",
    "pth_train = 'Data/Training_Patch'\n",
    "pth_valid = 'Data/Validation_Patch'\n",
    "pth_test = 'Data/ISIC2017/ISIC-2017_Test_Data'\n",
    "\n",
    "\n",
    "ann_train = utils.Annotation('Data/ISIC2017/ISIC-2017_Training_Aug_Part3_GroundTruth.csv')\n",
    "ann_valid = utils.Annotation('Data/ISIC2017/ISIC-2017_Validation_Part3_GroundTruth.csv')\n",
    "ann_test = utils.Annotation('Data/ISIC2017/ISIC-2017_Test_v2_Part3_GroundTruth.csv')"
   ]
  },
  {
   "cell_type": "code",
   "execution_count": null,
   "metadata": {},
   "outputs": [],
   "source": [
    "from torchvision import transforms\n",
    "from torch.utils import data\n",
    "\n",
    "transform = transforms.Compose([transforms.Resize(224),\n",
    "                                transforms.CenterCrop(224),\n",
    "                                transforms.ToTensor(),\n",
    "                                transforms.Normalize([0.485, 0.456, 0.406],\n",
    "                                                     [0.229, 0.224, 0.225])\n",
    "                                ])\n",
    "\n",
    "# augmentation transform\n",
    "transform_train = transforms.Compose([transforms.RandomHorizontalFlip(p=0.5),\n",
    "                                      transforms.RandomVerticalFlip(p=0.5),\n",
    "                                      transforms.RandomAffine(10, scale=(0.9, 1.1)),\n",
    "                                      transforms.ToTensor(),\n",
    "                                      transforms.Normalize([0.485, 0.456, 0.406],\n",
    "                                                           [0.229, 0.224, 0.225])\n",
    "                                      ])"
   ]
  },
  {
   "cell_type": "code",
   "execution_count": null,
   "metadata": {},
   "outputs": [],
   "source": [
    "# create train dataset\n",
    "train_data = utils.Data(ann_train.df, pth_train, 60, transform=transform_train)\n",
    "train_loader = data.DataLoader(train_data, batch_size=32, shuffle=True, drop_last=True)\n",
    "\n",
    "# create validation dataset\n",
    "valid_data = utils.Data(ann_valid.df, pth_valid, 1, transform=transform)\n",
    "valid_loader = data.DataLoader(valid_data, batch_size=32, shuffle=False)\n",
    "\n",
    "# create test dataset\n",
    "test_data = utils.Data(ann_test.df, pth_test, 1, transform=transform)\n",
    "test_loader = data.DataLoader(test_data, batch_size=32, shuffle=False)"
   ]
  },
  {
   "cell_type": "markdown",
   "metadata": {},
   "source": [
    "## Network Design"
   ]
  },
  {
   "cell_type": "code",
   "execution_count": null,
   "metadata": {},
   "outputs": [],
   "source": [
    "# GPU setting\n",
    "device = torch.device(\"cuda\" if torch.cuda.is_available() else \"cpu\")\n",
    "print(device)"
   ]
  },
  {
   "cell_type": "code",
   "execution_count": null,
   "metadata": {
    "tags": []
   },
   "outputs": [],
   "source": [
    "import nets\n",
    "\n",
    "model = nets.arlnet50(pretrained=True, num_classes=3)\n",
    "# 1-2\n",
    "# model = nets.resnet50(pretrained=True, num_classes=3)\n",
    "# # 2\n",
    "# model = nets.arlnet18(pretrained=False, num_calsses=3)\n",
    "\n",
    "# model = utils.load_model(device, name=\"arl50.pkl\")\n",
    "# model = utils.load_state_dict(model, device, name=\"state_dict.pth\")\n",
    "model.to(device)"
   ]
  },
  {
   "cell_type": "markdown",
   "metadata": {},
   "source": [
    "## Train\n",
    "### Criterion\n",
    "\n",
    "Focal Loss\n",
    "$$\n",
    "{\\text{FL}(p_{t}) = - \\alpha_t (1 - p_{t})^\\gamma \\log\\left(p_{t}\\right)} \n",
    "$$"
   ]
  },
  {
   "cell_type": "code",
   "execution_count": null,
   "metadata": {},
   "outputs": [],
   "source": [
    "# setting equal weights\n",
    "# 2-1/3\n",
    "class_weight = [1 for _ in range(ann_train.class_num)]\n",
    "# # 2-2/4\n",
    "# class_nums = ann_train.count_samples()\n",
    "# class_weight = [len(ann_train.df)/(len(class_nums)*num) for num in class_nums]\n",
    "\n",
    "# 2-1/2\n",
    "criterion = utils.FocalLoss(alpha=class_weight, gamma=2, num_classes=ann_train.class_num)\n",
    "# # 2-3/4\n",
    "# criterion = nn.CrossEntropyLoss(weight=torch.Tensor(class_weight))\n",
    "\n",
    "log.logger.info(criterion)"
   ]
  },
  {
   "cell_type": "code",
   "execution_count": null,
   "metadata": {},
   "outputs": [],
   "source": [
    "# initial test\n",
    "test_acc, test_bacc, f1_score = utils.accuracies(model, test_loader, device)\n",
    "log.logger.info(\"Initial Test: test_acc = {:.4f}, test_bacc = {:.4f}, f1_score = {}\".format(test_acc, test_bacc, f1_score))"
   ]
  },
  {
   "cell_type": "markdown",
   "metadata": {},
   "source": [
    "### Train\n",
    "\n",
    "The mini-batch SGD algorithm with a batch size of 32 was adopted as the optimizer. The learning rate was initialized to\n",
    "0.01 for training ARL-CNN14 from scratch and 0.0001 for fine-tuning ARL-CNN50 with pre-trained parameters, and was\n",
    "reduced by half very 30 epochs. The initial weighting factor of the attention feature maps was set to 0.001 in each ARL block\n",
    "when fine-tuning the ARL-CNN50. The maximum epoch number was set to 100.\n",
    "\n",
    "We used the officially provided validation set to monitor the performance of our model and stopped the training process when the network fell into overfitting."
   ]
  },
  {
   "cell_type": "code",
   "execution_count": null,
   "metadata": {},
   "outputs": [],
   "source": [
    "from torch import optim"
   ]
  },
  {
   "cell_type": "code",
   "execution_count": null,
   "metadata": {
    "tags": []
   },
   "outputs": [],
   "source": [
    "def train(model, train_loader, test_loader, max_epoch=100, test_period=5, early_threshold=5):\n",
    "    \"\"\" train with a scheduler on learning rate\n",
    "\n",
    "    Args:\n",
    "        test_period (int): period of test\n",
    "        early_threshold (int): threshold for early stoppig strategy, which pays attention to acc on test set\n",
    "    \"\"\"\n",
    "    N_train = len(train_loader.dataset)\n",
    "    best_acc = 0\n",
    "    patience = early_threshold\n",
    "    \n",
    "    # make sure the model is in the training mode\n",
    "    model.train()\n",
    "\n",
    "    global epoch\n",
    "    for epoch in range(epoch, max_epoch):\n",
    "        cost = 0\n",
    "        correct = 0\n",
    "        \n",
    "        for x, y in train_loader:\n",
    "            # setting GPU\n",
    "            x, y = x.to(device), y.to(device)\n",
    "\n",
    "            optimizer.zero_grad()\n",
    "            z = model(x)\n",
    "            loss = criterion(z, y)\n",
    "            loss.backward()\n",
    "            optimizer.step()\n",
    "            \n",
    "            cost += loss.item()\n",
    "            _, yhat = torch.max(z.data, 1)\n",
    "            correct += (yhat == y).sum().item()\n",
    "            \n",
    "        costs.append(cost/len(train_loader))    # average cost\n",
    "        \n",
    "\n",
    "        # ! acc on train in train mode\n",
    "        acc = correct / N_train\n",
    "        train_accs.append(acc)\n",
    "\n",
    "        # adjsut learning rate\n",
    "        scheduler.step()\n",
    "\n",
    "\n",
    "        if epoch % test_period == 0:\n",
    "            test_acc, test_balanced_acc, f1_score = utils.accuracies(model, test_loader, device)\n",
    "            test_accs.append(test_acc)\n",
    "            b_accs.append(test_balanced_acc)\n",
    "            f1_scores.append(list(f1_score))\n",
    "            \n",
    "            if test_acc > best_acc:\n",
    "                best_acc = test_acc\n",
    "                patience = early_threshold\n",
    "                # 在测试集上准确率上升时，保存checkpoint\n",
    "                # utils.save_state_dict(model)\n",
    "                utils.check_train(log, model, optimizer, epoch, scheduler)\n",
    "                utils.check_eval(log, costs, train_accs, test_accs, b_accs, f1_scores, False)\n",
    "            else:\n",
    "                patience -= 1\n",
    "                if patience == 0:\n",
    "                    break\n",
    "\n",
    "            log.logger.info(\"{:3d} cost: {:.4f}\\ttrain_acc: {:.4f}\\ttest_acc: {:.4f}\\ttest_bacc: {:.4f}\\tf1_score: {}\".format(\n",
    "                epoch, cost, acc, test_acc, test_balanced_acc, f1_score))\n",
    "\n",
    "            # change back to training mode    \n",
    "            model.train()"
   ]
  },
  {
   "cell_type": "code",
   "execution_count": null,
   "metadata": {},
   "outputs": [],
   "source": [
    "# setting\n",
    "## filename\n",
    "model_file = 'arl50.pkl'\n",
    "\n",
    "## hyper-params\n",
    "init_lr = 1e-4\n",
    "weight_decay = 1e-3\n",
    "max_epoch = 100\n",
    "test_period = 1\n",
    "early_threshold = 20\n",
    "\n",
    "## optimizer: https://pytorch.org/docs/stable/optim.html\n",
    "# optimizer = optim.AdamW(model.parameters(), lr=init_lr, betas=(0.9, 0.999), weight_decay=weight_decay)\n",
    "momentum = 0.9\n",
    "optimizer = optim.SGD(model.parameters(), lr=init_lr, momentum=momentum, weight_decay=weight_decay)\n",
    "\n",
    "\n",
    "## learning rate decay\n",
    "scheduler = optim.lr_scheduler.StepLR(optimizer, step_size=30, gamma=0.5)\n",
    "\n",
    "# 初始化训练状态\n",
    "epoch = utils.load_train(log, model, optimizer, scheduler)\n",
    "costs, train_accs, test_accs, b_accs, f1_scores = utils.load_eval(log)"
   ]
  },
  {
   "cell_type": "code",
   "execution_count": null,
   "metadata": {
    "scrolled": true
   },
   "outputs": [],
   "source": [
    "# # load from checkpoint 从checkpoint加载继续训练\n",
    "# epoch = utils.load_train(log, model, optimizer, scheduler, pth_check='ch_training.pth')\n",
    "# costs, train_accs, test_accs, b_accs, f1_scores = utils.load_eval(log, pth_check='ch_eval.pth')\n",
    "\n",
    "log.logger.info(\"Training...\\n{}\\n{}\".format(optimizer, scheduler))\n",
    "train(model, train_loader, valid_loader, max_epoch, test_period, early_threshold)"
   ]
  },
  {
   "cell_type": "code",
   "execution_count": null,
   "metadata": {},
   "outputs": [],
   "source": [
    "# # save checkpoint\n",
    "# utils.check_train(log, model, optimizer, epoch, scheduler)\n",
    "# utils.check_eval(log, costs, train_accs, test_accs, b_accs, f1_scores)"
   ]
  },
  {
   "cell_type": "code",
   "execution_count": null,
   "metadata": {},
   "outputs": [],
   "source": [
    "# save model\n",
    "utils.save_model(model, name=model_file)\n",
    "log.logger.info(\"Filename: {}\\ncosts = {}\\ntrain_accs = {}\\ntest_acc = {}\\nb_accs = {}\\nf1_scores = {}\".format(\n",
    "    model_file, costs, train_accs, test_accs, b_accs, f1_scores))"
   ]
  },
  {
   "cell_type": "markdown",
   "metadata": {},
   "source": [
    "## Evaluation\n",
    "\n",
    "Implemented in [Evaluation.ipynb](Evaluation.ipynb)\n",
    "\n",
    "In the test stage, we used the same patch extraction method to randomly crop nine patches from each test image, fed them to the trained network, and averaged the obtained scores as the predicted score of the image."
   ]
  },
  {
   "cell_type": "code",
   "execution_count": null,
   "metadata": {},
   "outputs": [],
   "source": [
    "from sklearn import metrics\n",
    "\n",
    "\n",
    "def performance_evaluation(model: torch.nn, dataset: utils.Data, info: str = ''):\n",
    "    \"\"\"\n",
    "    make evaluation report\n",
    "    \"\"\"\n",
    "    data_loader = data.DataLoader(dataset, batch_size=120, shuffle=False)\n",
    "    # predict\n",
    "    y_true, y_pred = utils.make_predictions(model, data_loader, device)\n",
    "    # acc, sensitive\n",
    "    report = metrics.classification_report(y_true, y_pred, target_names=ann_test.categories)\n",
    "    # confusion matrix\n",
    "    cf_matrix = utils.get_confusion(y_true, y_pred, ann_test.categories)\n",
    "    utils.draw_confusion(cf_matrix)\n",
    "    log.logger.info(\"{}\\n{}\".format(info, report))"
   ]
  },
  {
   "cell_type": "code",
   "execution_count": null,
   "metadata": {},
   "outputs": [],
   "source": [
    "performance_evaluation(model, valid_data, info='Performance on Validation Set')\n",
    "performance_evaluation(model, test_data, info='Performance on Test Set')\n",
    "performance_evaluation(model, train_data, info='Performance on Train Set')"
   ]
  }
 ],
 "metadata": {
  "interpreter": {
   "hash": "06bb3c3ef4a880548ecfc5dc8501d178eb29b729421bcd01924945e985691c69"
  },
  "kernelspec": {
   "display_name": "Python (lab)",
   "language": "python",
   "name": "lab"
  },
  "language_info": {
   "codemirror_mode": {
    "name": "ipython",
    "version": 3
   },
   "file_extension": ".py",
   "mimetype": "text/x-python",
   "name": "python",
   "nbconvert_exporter": "python",
   "pygments_lexer": "ipython3",
   "version": "3.8.0"
  }
 },
 "nbformat": 4,
 "nbformat_minor": 4
}
