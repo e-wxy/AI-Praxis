{
 "cells": [
  {
   "cell_type": "code",
   "execution_count": 1,
   "metadata": {},
   "outputs": [],
   "source": [
    "import torch\n",
    "\n",
    "import utils\n",
    "\n",
    "import warnings\n",
    "warnings.filterwarnings('ignore')"
   ]
  },
  {
   "cell_type": "code",
   "execution_count": 2,
   "metadata": {},
   "outputs": [
    {
     "name": "stderr",
     "output_type": "stream",
     "text": [
      "[2022-04-06 15:42:01,018] 1-1 ARL50-4\n"
     ]
    }
   ],
   "source": [
    "# log file\n",
    "model_id = 4\n",
    "title = 'arl50'\n",
    "log = utils.Logger(verbose=True, title=title)\n",
    "log.logger.info(\"1-1 ARL50-{}\".format(model_id))"
   ]
  },
  {
   "cell_type": "markdown",
   "metadata": {},
   "source": [
    "## Data Preparation"
   ]
  },
  {
   "cell_type": "code",
   "execution_count": 3,
   "metadata": {},
   "outputs": [],
   "source": [
    "# path of img data\n",
    "pth_train = 'Data/ISIC2017/Aug_Training_Data'\n",
    "pth_valid = 'Data/ISIC2017/ISIC-2017_Validation_Data'\n",
    "pth_test = 'Data/ISIC2017/ISIC-2017_Test_Data'\n",
    "\n",
    "\n",
    "ann_train = utils.Annotation('Data/ISIC2017/ISIC-2017_Training_Aug_Part3_GroundTruth.csv')\n",
    "ann_valid = utils.Annotation('Data/ISIC2017/ISIC-2017_Validation_Part3_GroundTruth.csv')"
   ]
  },
  {
   "cell_type": "code",
   "execution_count": 4,
   "metadata": {},
   "outputs": [],
   "source": [
    "from torchvision import transforms\n",
    "from torch.utils import data\n",
    "\n",
    "transform = transforms.Compose([transforms.Resize((224, 224)),\n",
    "                                transforms.ToTensor(),\n",
    "                                transforms.Normalize([0.485, 0.456, 0.406],\n",
    "                                                     [0.229, 0.224, 0.225])\n",
    "                                ])\n",
    "\n",
    "# augmentation transform\n",
    "transform_train = transforms.Compose([transforms.RandomHorizontalFlip(p=0.5),\n",
    "                                      transforms.RandomVerticalFlip(p=0.5),\n",
    "                                      transforms.RandomAffine(10, scale=(0.9, 1.1)),\n",
    "                                      transforms.ToTensor(),\n",
    "                                      transforms.Normalize([0.485, 0.456, 0.406],\n",
    "                                                           [0.229, 0.224, 0.225])\n",
    "                                      ])"
   ]
  },
  {
   "cell_type": "code",
   "execution_count": 5,
   "metadata": {},
   "outputs": [],
   "source": [
    "# create train dataset\n",
    "train_data = utils.RandomPatch(ann_train.df, pth_train, transform=transform_train)\n",
    "train_loader = data.DataLoader(train_data, batch_size=32, shuffle=True, drop_last=True, num_workers=2)\n",
    "\n",
    "# create validation dataset\n",
    "valid_data = utils.RandomPatch(ann_valid.df, pth_valid, transform=transform)\n",
    "valid_loader = data.DataLoader(valid_data, batch_size=32, shuffle=False, num_workers=2)"
   ]
  },
  {
   "cell_type": "markdown",
   "metadata": {},
   "source": [
    "## Network Design"
   ]
  },
  {
   "cell_type": "code",
   "execution_count": 6,
   "metadata": {},
   "outputs": [
    {
     "name": "stdout",
     "output_type": "stream",
     "text": [
      "cuda\n"
     ]
    }
   ],
   "source": [
    "# GPU setting\n",
    "device = torch.device(\"cuda\" if torch.cuda.is_available() else \"cpu\")\n",
    "print(device)"
   ]
  },
  {
   "cell_type": "code",
   "execution_count": 7,
   "metadata": {
    "scrolled": true,
    "tags": []
   },
   "outputs": [
    {
     "data": {
      "text/plain": [
       "ARLNet(\n",
       "  (conv1): Conv2d(3, 64, kernel_size=(7, 7), stride=(2, 2), padding=(3, 3), bias=False)\n",
       "  (bn1): BatchNorm2d(64, eps=1e-05, momentum=0.1, affine=True, track_running_stats=True)\n",
       "  (relu): ReLU(inplace=True)\n",
       "  (maxpool): MaxPool2d(kernel_size=3, stride=2, padding=1, dilation=1, ceil_mode=False)\n",
       "  (layer1): Sequential(\n",
       "    (0): Bottleneck(\n",
       "      (conv1): Conv2d(64, 64, kernel_size=(1, 1), stride=(1, 1), bias=False)\n",
       "      (bn1): BatchNorm2d(64, eps=1e-05, momentum=0.1, affine=True, track_running_stats=True)\n",
       "      (conv2): Conv2d(64, 64, kernel_size=(3, 3), stride=(1, 1), padding=(1, 1), bias=False)\n",
       "      (bn2): BatchNorm2d(64, eps=1e-05, momentum=0.1, affine=True, track_running_stats=True)\n",
       "      (conv3): Conv2d(64, 256, kernel_size=(1, 1), stride=(1, 1), bias=False)\n",
       "      (bn3): BatchNorm2d(256, eps=1e-05, momentum=0.1, affine=True, track_running_stats=True)\n",
       "      (relu): ReLU(inplace=True)\n",
       "      (downsample): Sequential(\n",
       "        (0): Conv2d(64, 256, kernel_size=(1, 1), stride=(1, 1), bias=False)\n",
       "        (1): BatchNorm2d(256, eps=1e-05, momentum=0.1, affine=True, track_running_stats=True)\n",
       "      )\n",
       "    )\n",
       "    (1): Bottleneck(\n",
       "      (conv1): Conv2d(256, 64, kernel_size=(1, 1), stride=(1, 1), bias=False)\n",
       "      (bn1): BatchNorm2d(64, eps=1e-05, momentum=0.1, affine=True, track_running_stats=True)\n",
       "      (conv2): Conv2d(64, 64, kernel_size=(3, 3), stride=(1, 1), padding=(1, 1), bias=False)\n",
       "      (bn2): BatchNorm2d(64, eps=1e-05, momentum=0.1, affine=True, track_running_stats=True)\n",
       "      (conv3): Conv2d(64, 256, kernel_size=(1, 1), stride=(1, 1), bias=False)\n",
       "      (bn3): BatchNorm2d(256, eps=1e-05, momentum=0.1, affine=True, track_running_stats=True)\n",
       "      (relu): ReLU(inplace=True)\n",
       "    )\n",
       "    (2): Bottleneck(\n",
       "      (conv1): Conv2d(256, 64, kernel_size=(1, 1), stride=(1, 1), bias=False)\n",
       "      (bn1): BatchNorm2d(64, eps=1e-05, momentum=0.1, affine=True, track_running_stats=True)\n",
       "      (conv2): Conv2d(64, 64, kernel_size=(3, 3), stride=(1, 1), padding=(1, 1), bias=False)\n",
       "      (bn2): BatchNorm2d(64, eps=1e-05, momentum=0.1, affine=True, track_running_stats=True)\n",
       "      (conv3): Conv2d(64, 256, kernel_size=(1, 1), stride=(1, 1), bias=False)\n",
       "      (bn3): BatchNorm2d(256, eps=1e-05, momentum=0.1, affine=True, track_running_stats=True)\n",
       "      (relu): ReLU(inplace=True)\n",
       "    )\n",
       "  )\n",
       "  (layer2): Sequential(\n",
       "    (0): Bottleneck(\n",
       "      (conv1): Conv2d(256, 128, kernel_size=(1, 1), stride=(1, 1), bias=False)\n",
       "      (bn1): BatchNorm2d(128, eps=1e-05, momentum=0.1, affine=True, track_running_stats=True)\n",
       "      (conv2): Conv2d(128, 128, kernel_size=(3, 3), stride=(2, 2), padding=(1, 1), bias=False)\n",
       "      (bn2): BatchNorm2d(128, eps=1e-05, momentum=0.1, affine=True, track_running_stats=True)\n",
       "      (conv3): Conv2d(128, 512, kernel_size=(1, 1), stride=(1, 1), bias=False)\n",
       "      (bn3): BatchNorm2d(512, eps=1e-05, momentum=0.1, affine=True, track_running_stats=True)\n",
       "      (relu): ReLU(inplace=True)\n",
       "      (downsample): Sequential(\n",
       "        (0): Conv2d(256, 512, kernel_size=(1, 1), stride=(2, 2), bias=False)\n",
       "        (1): BatchNorm2d(512, eps=1e-05, momentum=0.1, affine=True, track_running_stats=True)\n",
       "      )\n",
       "    )\n",
       "    (1): Bottleneck(\n",
       "      (conv1): Conv2d(512, 128, kernel_size=(1, 1), stride=(1, 1), bias=False)\n",
       "      (bn1): BatchNorm2d(128, eps=1e-05, momentum=0.1, affine=True, track_running_stats=True)\n",
       "      (conv2): Conv2d(128, 128, kernel_size=(3, 3), stride=(1, 1), padding=(1, 1), bias=False)\n",
       "      (bn2): BatchNorm2d(128, eps=1e-05, momentum=0.1, affine=True, track_running_stats=True)\n",
       "      (conv3): Conv2d(128, 512, kernel_size=(1, 1), stride=(1, 1), bias=False)\n",
       "      (bn3): BatchNorm2d(512, eps=1e-05, momentum=0.1, affine=True, track_running_stats=True)\n",
       "      (relu): ReLU(inplace=True)\n",
       "    )\n",
       "    (2): Bottleneck(\n",
       "      (conv1): Conv2d(512, 128, kernel_size=(1, 1), stride=(1, 1), bias=False)\n",
       "      (bn1): BatchNorm2d(128, eps=1e-05, momentum=0.1, affine=True, track_running_stats=True)\n",
       "      (conv2): Conv2d(128, 128, kernel_size=(3, 3), stride=(1, 1), padding=(1, 1), bias=False)\n",
       "      (bn2): BatchNorm2d(128, eps=1e-05, momentum=0.1, affine=True, track_running_stats=True)\n",
       "      (conv3): Conv2d(128, 512, kernel_size=(1, 1), stride=(1, 1), bias=False)\n",
       "      (bn3): BatchNorm2d(512, eps=1e-05, momentum=0.1, affine=True, track_running_stats=True)\n",
       "      (relu): ReLU(inplace=True)\n",
       "    )\n",
       "    (3): Bottleneck(\n",
       "      (conv1): Conv2d(512, 128, kernel_size=(1, 1), stride=(1, 1), bias=False)\n",
       "      (bn1): BatchNorm2d(128, eps=1e-05, momentum=0.1, affine=True, track_running_stats=True)\n",
       "      (conv2): Conv2d(128, 128, kernel_size=(3, 3), stride=(1, 1), padding=(1, 1), bias=False)\n",
       "      (bn2): BatchNorm2d(128, eps=1e-05, momentum=0.1, affine=True, track_running_stats=True)\n",
       "      (conv3): Conv2d(128, 512, kernel_size=(1, 1), stride=(1, 1), bias=False)\n",
       "      (bn3): BatchNorm2d(512, eps=1e-05, momentum=0.1, affine=True, track_running_stats=True)\n",
       "      (relu): ReLU(inplace=True)\n",
       "    )\n",
       "  )\n",
       "  (layer3): Sequential(\n",
       "    (0): Bottleneck(\n",
       "      (conv1): Conv2d(512, 256, kernel_size=(1, 1), stride=(1, 1), bias=False)\n",
       "      (bn1): BatchNorm2d(256, eps=1e-05, momentum=0.1, affine=True, track_running_stats=True)\n",
       "      (conv2): Conv2d(256, 256, kernel_size=(3, 3), stride=(2, 2), padding=(1, 1), bias=False)\n",
       "      (bn2): BatchNorm2d(256, eps=1e-05, momentum=0.1, affine=True, track_running_stats=True)\n",
       "      (conv3): Conv2d(256, 1024, kernel_size=(1, 1), stride=(1, 1), bias=False)\n",
       "      (bn3): BatchNorm2d(1024, eps=1e-05, momentum=0.1, affine=True, track_running_stats=True)\n",
       "      (relu): ReLU(inplace=True)\n",
       "      (downsample): Sequential(\n",
       "        (0): Conv2d(512, 1024, kernel_size=(1, 1), stride=(2, 2), bias=False)\n",
       "        (1): BatchNorm2d(1024, eps=1e-05, momentum=0.1, affine=True, track_running_stats=True)\n",
       "      )\n",
       "    )\n",
       "    (1): Bottleneck(\n",
       "      (conv1): Conv2d(1024, 256, kernel_size=(1, 1), stride=(1, 1), bias=False)\n",
       "      (bn1): BatchNorm2d(256, eps=1e-05, momentum=0.1, affine=True, track_running_stats=True)\n",
       "      (conv2): Conv2d(256, 256, kernel_size=(3, 3), stride=(1, 1), padding=(1, 1), bias=False)\n",
       "      (bn2): BatchNorm2d(256, eps=1e-05, momentum=0.1, affine=True, track_running_stats=True)\n",
       "      (conv3): Conv2d(256, 1024, kernel_size=(1, 1), stride=(1, 1), bias=False)\n",
       "      (bn3): BatchNorm2d(1024, eps=1e-05, momentum=0.1, affine=True, track_running_stats=True)\n",
       "      (relu): ReLU(inplace=True)\n",
       "    )\n",
       "    (2): Bottleneck(\n",
       "      (conv1): Conv2d(1024, 256, kernel_size=(1, 1), stride=(1, 1), bias=False)\n",
       "      (bn1): BatchNorm2d(256, eps=1e-05, momentum=0.1, affine=True, track_running_stats=True)\n",
       "      (conv2): Conv2d(256, 256, kernel_size=(3, 3), stride=(1, 1), padding=(1, 1), bias=False)\n",
       "      (bn2): BatchNorm2d(256, eps=1e-05, momentum=0.1, affine=True, track_running_stats=True)\n",
       "      (conv3): Conv2d(256, 1024, kernel_size=(1, 1), stride=(1, 1), bias=False)\n",
       "      (bn3): BatchNorm2d(1024, eps=1e-05, momentum=0.1, affine=True, track_running_stats=True)\n",
       "      (relu): ReLU(inplace=True)\n",
       "    )\n",
       "    (3): Bottleneck(\n",
       "      (conv1): Conv2d(1024, 256, kernel_size=(1, 1), stride=(1, 1), bias=False)\n",
       "      (bn1): BatchNorm2d(256, eps=1e-05, momentum=0.1, affine=True, track_running_stats=True)\n",
       "      (conv2): Conv2d(256, 256, kernel_size=(3, 3), stride=(1, 1), padding=(1, 1), bias=False)\n",
       "      (bn2): BatchNorm2d(256, eps=1e-05, momentum=0.1, affine=True, track_running_stats=True)\n",
       "      (conv3): Conv2d(256, 1024, kernel_size=(1, 1), stride=(1, 1), bias=False)\n",
       "      (bn3): BatchNorm2d(1024, eps=1e-05, momentum=0.1, affine=True, track_running_stats=True)\n",
       "      (relu): ReLU(inplace=True)\n",
       "    )\n",
       "    (4): Bottleneck(\n",
       "      (conv1): Conv2d(1024, 256, kernel_size=(1, 1), stride=(1, 1), bias=False)\n",
       "      (bn1): BatchNorm2d(256, eps=1e-05, momentum=0.1, affine=True, track_running_stats=True)\n",
       "      (conv2): Conv2d(256, 256, kernel_size=(3, 3), stride=(1, 1), padding=(1, 1), bias=False)\n",
       "      (bn2): BatchNorm2d(256, eps=1e-05, momentum=0.1, affine=True, track_running_stats=True)\n",
       "      (conv3): Conv2d(256, 1024, kernel_size=(1, 1), stride=(1, 1), bias=False)\n",
       "      (bn3): BatchNorm2d(1024, eps=1e-05, momentum=0.1, affine=True, track_running_stats=True)\n",
       "      (relu): ReLU(inplace=True)\n",
       "    )\n",
       "    (5): Bottleneck(\n",
       "      (conv1): Conv2d(1024, 256, kernel_size=(1, 1), stride=(1, 1), bias=False)\n",
       "      (bn1): BatchNorm2d(256, eps=1e-05, momentum=0.1, affine=True, track_running_stats=True)\n",
       "      (conv2): Conv2d(256, 256, kernel_size=(3, 3), stride=(1, 1), padding=(1, 1), bias=False)\n",
       "      (bn2): BatchNorm2d(256, eps=1e-05, momentum=0.1, affine=True, track_running_stats=True)\n",
       "      (conv3): Conv2d(256, 1024, kernel_size=(1, 1), stride=(1, 1), bias=False)\n",
       "      (bn3): BatchNorm2d(1024, eps=1e-05, momentum=0.1, affine=True, track_running_stats=True)\n",
       "      (relu): ReLU(inplace=True)\n",
       "    )\n",
       "  )\n",
       "  (layer4): Sequential(\n",
       "    (0): Bottleneck(\n",
       "      (conv1): Conv2d(1024, 512, kernel_size=(1, 1), stride=(1, 1), bias=False)\n",
       "      (bn1): BatchNorm2d(512, eps=1e-05, momentum=0.1, affine=True, track_running_stats=True)\n",
       "      (conv2): Conv2d(512, 512, kernel_size=(3, 3), stride=(2, 2), padding=(1, 1), bias=False)\n",
       "      (bn2): BatchNorm2d(512, eps=1e-05, momentum=0.1, affine=True, track_running_stats=True)\n",
       "      (conv3): Conv2d(512, 2048, kernel_size=(1, 1), stride=(1, 1), bias=False)\n",
       "      (bn3): BatchNorm2d(2048, eps=1e-05, momentum=0.1, affine=True, track_running_stats=True)\n",
       "      (relu): ReLU(inplace=True)\n",
       "      (downsample): Sequential(\n",
       "        (0): Conv2d(1024, 2048, kernel_size=(1, 1), stride=(2, 2), bias=False)\n",
       "        (1): BatchNorm2d(2048, eps=1e-05, momentum=0.1, affine=True, track_running_stats=True)\n",
       "      )\n",
       "    )\n",
       "    (1): Bottleneck(\n",
       "      (conv1): Conv2d(2048, 512, kernel_size=(1, 1), stride=(1, 1), bias=False)\n",
       "      (bn1): BatchNorm2d(512, eps=1e-05, momentum=0.1, affine=True, track_running_stats=True)\n",
       "      (conv2): Conv2d(512, 512, kernel_size=(3, 3), stride=(1, 1), padding=(1, 1), bias=False)\n",
       "      (bn2): BatchNorm2d(512, eps=1e-05, momentum=0.1, affine=True, track_running_stats=True)\n",
       "      (conv3): Conv2d(512, 2048, kernel_size=(1, 1), stride=(1, 1), bias=False)\n",
       "      (bn3): BatchNorm2d(2048, eps=1e-05, momentum=0.1, affine=True, track_running_stats=True)\n",
       "      (relu): ReLU(inplace=True)\n",
       "    )\n",
       "    (2): Bottleneck(\n",
       "      (conv1): Conv2d(2048, 512, kernel_size=(1, 1), stride=(1, 1), bias=False)\n",
       "      (bn1): BatchNorm2d(512, eps=1e-05, momentum=0.1, affine=True, track_running_stats=True)\n",
       "      (conv2): Conv2d(512, 512, kernel_size=(3, 3), stride=(1, 1), padding=(1, 1), bias=False)\n",
       "      (bn2): BatchNorm2d(512, eps=1e-05, momentum=0.1, affine=True, track_running_stats=True)\n",
       "      (conv3): Conv2d(512, 2048, kernel_size=(1, 1), stride=(1, 1), bias=False)\n",
       "      (bn3): BatchNorm2d(2048, eps=1e-05, momentum=0.1, affine=True, track_running_stats=True)\n",
       "      (relu): ReLU(inplace=True)\n",
       "    )\n",
       "  )\n",
       "  (avgpool): AvgPool2d(kernel_size=7, stride=1, padding=0)\n",
       "  (fc_): Linear(in_features=2048, out_features=3, bias=True)\n",
       ")"
      ]
     },
     "execution_count": 7,
     "metadata": {},
     "output_type": "execute_result"
    }
   ],
   "source": [
    "import nets\n",
    "\n",
    "model = nets.arlnet50(pretrained=True, num_classes=3)\n",
    "# 1-2\n",
    "# model = nets.resnet50(pretrained=True, num_classes=3)\n",
    "# # 2\n",
    "# model = nets.arlnet18(pretrained=False, num_calsses=3)\n",
    "\n",
    "# model = utils.load_model(device, name=\"arl50.pkl\")\n",
    "# model = utils.load_state_dict(model, device, name=\"arl50_dict.pth\")\n",
    "model.to(device)"
   ]
  },
  {
   "cell_type": "markdown",
   "metadata": {},
   "source": [
    "## Train\n",
    "### Criterion\n",
    "\n",
    "Focal Loss\n",
    "$$\n",
    "{\\text{FL}(p_{t}) = - \\alpha_t (1 - p_{t})^\\gamma \\log\\left(p_{t}\\right)} \n",
    "$$"
   ]
  },
  {
   "cell_type": "code",
   "execution_count": 8,
   "metadata": {},
   "outputs": [
    {
     "name": "stderr",
     "output_type": "stream",
     "text": [
      "[2022-04-06 15:42:03,920] Criterion: Focal Loss\n",
      " α = tensor([1., 1., 1.])\n",
      " γ = 2\n"
     ]
    }
   ],
   "source": [
    "# setting weights\n",
    "# # 2-1/3\n",
    "# class_weight = [1 for _ in range(ann_train.class_num)]\n",
    "# 2-2/4\n",
    "class_nums = ann_train.count_samples()\n",
    "class_weight = [len(ann_train.df)/(len(class_nums)*num) for num in class_nums]\n",
    "\n",
    "# 2-1/2\n",
    "criterion = utils.FocalLoss(alpha=class_weight, gamma=2, num_classes=ann_train.class_num, reduction='sum')\n",
    "# # 2-3/4\n",
    "# criterion = nn.CrossEntropyLoss(weight=torch.Tensor(class_weight), reduction='sum')\n",
    "\n",
    "log.logger.info(criterion)"
   ]
  },
  {
   "cell_type": "raw",
   "metadata": {},
   "source": [
    "# initial test\n",
    "test_acc, test_bacc, f1_score = utils.accuracies(model, train_loader, device)\n",
    "log.logger.info(\"Initial Test: train_acc = {:.4f}, train_bacc = {:.4f}, f1_score = {}\".format(test_acc, test_bacc, f1_score))\n",
    "\n",
    "test_acc, test_bacc, f1_score = utils.accuracies(model, valid_loader, device)\n",
    "log.logger.info(\"Initial Test: valid_acc = {:.4f}, valid_bacc = {:.4f}, f1_score = {}\".format(test_acc, test_bacc, f1_score))"
   ]
  },
  {
   "cell_type": "markdown",
   "metadata": {},
   "source": [
    "### Train\n",
    "\n",
    "The mini-batch SGD algorithm with a batch size of 32 was adopted as the optimizer. The learning rate was initialized to\n",
    "0.01 for training ARL-CNN14 from scratch and 0.0001 for fine-tuning ARL-CNN50 with pre-trained parameters, and was\n",
    "reduced by half very 30 epochs. The initial weighting factor of the attention feature maps was set to 0.001 in each ARL block\n",
    "when fine-tuning the ARL-CNN50. The maximum epoch number was set to 100.\n",
    "\n",
    "We used the officially provided validation set to monitor the performance of our model and stopped the training process when the network fell into overfitting."
   ]
  },
  {
   "cell_type": "code",
   "execution_count": 9,
   "metadata": {},
   "outputs": [],
   "source": [
    "from torch import optim"
   ]
  },
  {
   "cell_type": "code",
   "execution_count": 10,
   "metadata": {
    "tags": []
   },
   "outputs": [],
   "source": [
    "def train(model, train_loader, test_loader, max_epoch=100, test_period=5, early_threshold=5):\n",
    "    \"\"\" train with a scheduler on learning rate\n",
    "\n",
    "    Args:\n",
    "        test_period (int): period of test\n",
    "        early_threshold (int): threshold for early stoppig strategy, which pays attention to acc on test set\n",
    "    \"\"\"\n",
    "    N_train = len(train_loader.dataset)\n",
    "    patience = early_threshold\n",
    "    eval_metrics = utils.Evaluation(device, ann_train.categories, 0)\n",
    "    \n",
    "    # make sure the model is in the training mode\n",
    "    model.train()\n",
    "\n",
    "    global epoch\n",
    "    for epoch in range(epoch, max_epoch):\n",
    "        cost = 0\n",
    "        correct = 0\n",
    "        \n",
    "        for x, y in train_loader:\n",
    "            # setting GPU\n",
    "            x, y = x.to(device), y.to(device)\n",
    "\n",
    "            optimizer.zero_grad()\n",
    "            z = model(x)\n",
    "            loss = criterion(z, y)\n",
    "            loss.backward()\n",
    "            optimizer.step()\n",
    "            \n",
    "            cost += loss.item()\n",
    "            _, yhat = torch.max(z.data, 1)\n",
    "            correct += (yhat == y).sum().item()\n",
    "            \n",
    "        cost = cost / N_train\n",
    "        costs.append(cost)    # average cost\n",
    "        \n",
    "\n",
    "        # ! acc on train in train mode\n",
    "        acc = correct / N_train\n",
    "        train_accs.append(acc)\n",
    "\n",
    "        # adjsut learning rate\n",
    "        scheduler.step()\n",
    "\n",
    "\n",
    "        if epoch % test_period == 0:\n",
    "            eval_metrics.get_probs(model, test_loader)\n",
    "            eval_metrics.complete_scores()\n",
    "            test_accs.append(eval_metrics.acc)\n",
    "            b_accs.append(eval_metrics.b_acc)\n",
    "            f1_scores.append(eval_metrics.f1_score)\n",
    "            auc = eval_metrics.roc_auc[\"micro\"]\n",
    "            auces.append(auc)\n",
    "            \n",
    "            if auc > eval_metrics.best_score:\n",
    "                eval_metrics.best_score = auc\n",
    "                patience = early_threshold\n",
    "                # 在测试集上准确率上升时，保存模型参数\n",
    "                utils.save_state_dict(model, name=\"{}_dict_{}.pth\".format(title, model_id))\n",
    "            else:\n",
    "                patience -= 1\n",
    "                if patience == 0:\n",
    "                    break\n",
    "                    \n",
    "            # (每个epoch）保存checkpoint\n",
    "            utils.check_train(log, model, optimizer, epoch, scheduler, pth_check='ch_train_{}.pth'.format(title))\n",
    "            utils.check_eval(log, costs, train_accs, test_accs, b_accs, f1_scores, auces, pth_check='ch_eval_{}.pth'.format(title), verbose=False)\n",
    "                \n",
    "            log.logger.info(\"{:3d} cost: {:.4f}\\ttrain_acc: {:.4f}\\ttest_acc: {:.4f}\\ttest_bacc: {:.4f}\\tf1_score: {}\\tauc: {:.4f}\".format(\n",
    "                epoch, cost, acc, test_accs[-1], b_accs[-1], f1_scores[-1], auces[-1]))\n",
    "\n",
    "            # change back to training mode    \n",
    "            model.train()"
   ]
  },
  {
   "cell_type": "code",
   "execution_count": 11,
   "metadata": {},
   "outputs": [],
   "source": [
    "# setting\n",
    "## filename\n",
    "model_file = '{}-{}.pkl'.format(title, model_id)\n",
    "\n",
    "## hyper-params\n",
    "init_lr = 1e-4\n",
    "weight_decay = 1e-3\n",
    "max_epoch = 100\n",
    "test_period = 1\n",
    "early_threshold = 20\n",
    "\n",
    "## optimizer: https://pytorch.org/docs/stable/optim.html\n",
    "momentum = 0.9\n",
    "optimizer = optim.SGD(model.parameters(), lr=init_lr, momentum=momentum, weight_decay=weight_decay)\n",
    "\n",
    "\n",
    "## learning rate decay\n",
    "scheduler = optim.lr_scheduler.StepLR(optimizer, step_size=30, gamma=0.5)\n",
    "\n",
    "# 初始化训练状态\n",
    "epoch = utils.load_train(log, model, optimizer, scheduler)\n",
    "costs, train_accs, test_accs, b_accs, f1_scores, auces = utils.load_eval(log)"
   ]
  },
  {
   "cell_type": "code",
   "execution_count": null,
   "metadata": {
    "scrolled": true
   },
   "outputs": [
    {
     "name": "stderr",
     "output_type": "stream",
     "text": [
      "[2022-04-06 15:42:03,951] Training...\n",
      "SGD (\n",
      "Parameter Group 0\n",
      "    dampening: 0\n",
      "    initial_lr: 0.0001\n",
      "    lr: 0.0001\n",
      "    maximize: False\n",
      "    momentum: 0.9\n",
      "    nesterov: False\n",
      "    weight_decay: 0.001\n",
      ")\n",
      "<torch.optim.lr_scheduler.StepLR object at 0x7f0319c2da00>\n",
      "[2022-04-06 15:47:13,855] Saving training checkpoint at checkpoint/ch_train_arl50.pth\n"
     ]
    },
    {
     "name": "stdout",
     "output_type": "stream",
     "text": [
      "State dict has been saved to ./model/temp/arl50_dict_4.pth\n"
     ]
    },
    {
     "name": "stderr",
     "output_type": "stream",
     "text": [
      "[2022-04-06 15:47:14,085]   0 cost: 0.3141\ttrain_acc: 0.6437\ttest_acc: 0.6133\ttest_bacc: 0.4618\tf1_score: [0.11764705882352941, 0.5, 0.7281553398058251]\tauc: 0.8217\n",
      "[2022-04-06 15:52:18,696] Saving training checkpoint at checkpoint/ch_train_arl50.pth\n"
     ]
    },
    {
     "name": "stdout",
     "output_type": "stream",
     "text": [
      "State dict has been saved to ./model/temp/arl50_dict_4.pth\n"
     ]
    },
    {
     "name": "stderr",
     "output_type": "stream",
     "text": [
      "[2022-04-06 15:52:18,971]   1 cost: 0.2586\ttrain_acc: 0.6943\ttest_acc: 0.6467\ttest_bacc: 0.5200\tf1_score: [0.45000000000000007, 0.43636363636363634, 0.7414634146341464]\tauc: 0.8543\n",
      "[2022-04-06 15:57:27,500] Saving training checkpoint at checkpoint/ch_train_arl50.pth\n"
     ]
    },
    {
     "name": "stdout",
     "output_type": "stream",
     "text": [
      "State dict has been saved to ./model/temp/arl50_dict_4.pth\n"
     ]
    },
    {
     "name": "stderr",
     "output_type": "stream",
     "text": [
      "[2022-04-06 15:57:27,855]   2 cost: 0.2852\ttrain_acc: 0.6669\ttest_acc: 0.6667\ttest_bacc: 0.5526\tf1_score: [0.29268292682926833, 0.647887323943662, 0.7553191489361704]\tauc: 0.8657\n",
      "[2022-04-06 16:02:33,966] Saving training checkpoint at checkpoint/ch_train_arl50.pth\n",
      "[2022-04-06 16:02:34,242]   3 cost: 0.2210\ttrain_acc: 0.7211\ttest_acc: 0.6533\ttest_bacc: 0.6471\tf1_score: [0.46511627906976744, 0.7462686567164178, 0.7210884353741496]\tauc: 0.8290\n",
      "[2022-04-06 16:07:41,525] Saving training checkpoint at checkpoint/ch_train_arl50.pth\n"
     ]
    },
    {
     "name": "stdout",
     "output_type": "stream",
     "text": [
      "State dict has been saved to ./model/temp/arl50_dict_4.pth\n"
     ]
    },
    {
     "name": "stderr",
     "output_type": "stream",
     "text": [
      "[2022-04-06 16:07:41,801]   4 cost: 0.2233\ttrain_acc: 0.7075\ttest_acc: 0.7933\ttest_bacc: 0.7088\tf1_score: [0.4878048780487804, 0.8470588235294119, 0.8390804597701149]\tauc: 0.9191\n",
      "[2022-04-06 16:12:45,515] Saving training checkpoint at checkpoint/ch_train_arl50.pth\n",
      "[2022-04-06 16:12:45,798]   5 cost: 0.2047\ttrain_acc: 0.7346\ttest_acc: 0.7333\ttest_bacc: 0.6779\tf1_score: [0.5573770491803278, 0.7042253521126761, 0.8095238095238095]\tauc: 0.8700\n",
      "[2022-04-06 16:17:59,883] Saving training checkpoint at checkpoint/ch_train_arl50.pth\n"
     ]
    },
    {
     "name": "stdout",
     "output_type": "stream",
     "text": [
      "State dict has been saved to ./model/temp/arl50_dict_4.pth\n"
     ]
    },
    {
     "name": "stderr",
     "output_type": "stream",
     "text": [
      "[2022-04-06 16:18:00,174]   6 cost: 0.2012\ttrain_acc: 0.7467\ttest_acc: 0.7867\ttest_bacc: 0.7182\tf1_score: [0.5333333333333333, 0.8470588235294119, 0.8235294117647058]\tauc: 0.9228\n"
     ]
    }
   ],
   "source": [
    "# # load from checkpoint 从checkpoint加载继续训练\n",
    "# epoch = utils.load_train(log, model, optimizer, scheduler, pth_check='ch_train_arl.pth')\n",
    "# costs, train_accs, test_accs, b_accs, f1_scores, auces = utils.load_eval(log, pth_check='ch_eval_arl.pth')\n",
    "\n",
    "log.logger.info(\"Training...\\n{}\\n{}\".format(optimizer, scheduler))\n",
    "train(model, train_loader, valid_loader, max_epoch, test_period, early_threshold)"
   ]
  },
  {
   "cell_type": "code",
   "execution_count": null,
   "metadata": {},
   "outputs": [],
   "source": [
    "# # save checkpoint\n",
    "# utils.check_train(log, model, optimizer, epoch, scheduler)\n",
    "# utils.check_eval(log, costs, train_accs, test_accs, b_accs, f1_scores, auces)"
   ]
  },
  {
   "cell_type": "code",
   "execution_count": null,
   "metadata": {},
   "outputs": [],
   "source": [
    "# save model\n",
    "utils.save_model(model, name=model_file)\n",
    "log.logger.info(\"Filename: {}\\ncosts = {}\\ntrain_accs = {}\\ntest_acc = {}\\nb_accs = {}\\nf1_scores = {}\\nauces = {}\".format(\n",
    "    model_file, costs, train_accs, test_accs, b_accs, f1_scores, auces))"
   ]
  },
  {
   "cell_type": "markdown",
   "metadata": {},
   "source": [
    "## Evaluation\n",
    "\n",
    "Implemented in [Evaluation.ipynb](Evaluation.ipynb)\n",
    "\n",
    "In the test stage, we used the same patch extraction method to randomly crop nine patches from each test image, fed them to the trained network, and averaged the obtained scores as the predicted score of the image."
   ]
  },
  {
   "cell_type": "code",
   "execution_count": null,
   "metadata": {},
   "outputs": [],
   "source": [
    "# create test dataset\n",
    "ann_test = utils.Annotation('Data/ISIC2017/ISIC-2017_Test_v2_Part3_GroundTruth.csv')\n",
    "test_data = utils.RandomPatch(ann_test.df, pth_test, transform=transform)\n",
    "test_loader = data.DataLoader(test_data, batch_size=32, shuffle=False, num_workers=2)"
   ]
  },
  {
   "cell_type": "code",
   "execution_count": null,
   "metadata": {},
   "outputs": [],
   "source": [
    "eval_metrics = utils.Evaluation(device, ann_test.categories)\n",
    "\n",
    "\n",
    "def evaluation_report(model, data_loader):\n",
    "    y, prob = eval_metrics.get_probs(model, data_loader)\n",
    "    probs = [prob]\n",
    "    for _ in range(8):\n",
    "        _, prob = eval_metrics.get_probs(model, data_loader)\n",
    "        probs.append(prob)\n",
    "    prob = np.mean(probs, axis=0)\n",
    "    eval_metrics.prob = prob\n",
    "    \n",
    "    eval_metrics.complete_scores()\n",
    "    \n",
    "    log.logger.info(eval_metrics.report)\n",
    "    roc_auc = eval_metrics.roc_auc\n",
    "    \n",
    "    for key in roc_auc.keys():\n",
    "        log.logger.info(\"AUC({}): {}\".format(key, roc_auc[key]))"
   ]
  },
  {
   "cell_type": "code",
   "execution_count": null,
   "metadata": {},
   "outputs": [],
   "source": [
    "evaluation_report(model, test_loader)"
   ]
  }
 ],
 "metadata": {
  "interpreter": {
   "hash": "06bb3c3ef4a880548ecfc5dc8501d178eb29b729421bcd01924945e985691c69"
  },
  "kernelspec": {
   "display_name": "Python (lab)",
   "language": "python",
   "name": "lab"
  },
  "language_info": {
   "codemirror_mode": {
    "name": "ipython",
    "version": 3
   },
   "file_extension": ".py",
   "mimetype": "text/x-python",
   "name": "python",
   "nbconvert_exporter": "python",
   "pygments_lexer": "ipython3",
   "version": "3.8.0"
  }
 },
 "nbformat": 4,
 "nbformat_minor": 4
}
