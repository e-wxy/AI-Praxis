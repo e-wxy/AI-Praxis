{
 "cells": [
  {
   "cell_type": "markdown",
   "metadata": {},
   "source": [
    "Download data from ISIC Archive\n",
    "\n",
    "https://www.isic-archive.com/#!/topWithHeader/onlyHeaderTop/apiDocumentation"
   ]
  },
  {
   "cell_type": "markdown",
   "metadata": {},
   "source": [
    "## 加载CSV"
   ]
  },
  {
   "cell_type": "code",
   "execution_count": null,
   "metadata": {},
   "outputs": [],
   "source": [
    "import pandas as pd\n",
    "import os\n",
    "\n",
    "# 替换为ISIC上的csv文件路径\n",
    "df_train = pd.read_csv('../Data/2017/ISIC-2017_Training_Part3_GroundTruth.csv')\n",
    "# 替换为群里包含扩充数据的csv文件\n",
    "df_add = pd.read_csv('../Data/ISIC2017/ISIC-2017_Training_Add_Part3_GroundTruth.csv')"
   ]
  },
  {
   "cell_type": "code",
   "execution_count": null,
   "metadata": {},
   "outputs": [],
   "source": [
    "# 仅扩充数据\n",
    "# df_extra = df_add[~ df_add['image_id'].isin(df_train['image_id'])]\n",
    "# print(df_extra)\n",
    "# df_extra.to_csv('../Data/ISIC2017/ISIC-2017_Training_Extra_Part3_GroundTruth.csv', index=False)"
   ]
  },
  {
   "cell_type": "markdown",
   "metadata": {},
   "source": [
    "## ISIC API"
   ]
  },
  {
   "cell_type": "code",
   "execution_count": null,
   "metadata": {},
   "outputs": [],
   "source": [
    "import requests\n",
    "\n",
    "\n",
    "class ISICApi(object):\n",
    "    def __init__(self, hostname='https://isic-archive.com',\n",
    "                 username=None, password=None):\n",
    "        self.baseUrl = f'{hostname}/api/v1'\n",
    "        self.authToken = None\n",
    "\n",
    "        if username is not None:\n",
    "            if password is None:\n",
    "                password = input(f'Password for user \"{username}\":')\n",
    "            self.authToken = self._login(username, password)\n",
    "\n",
    "    def _makeUrl(self, endpoint):\n",
    "        return f'{self.baseUrl}/{endpoint}'\n",
    "\n",
    "    def _login(self, username, password):\n",
    "        authResponse = requests.get(\n",
    "            self._makeUrl('user/authentication'),\n",
    "            auth=(username, password)\n",
    "        )\n",
    "        if not authResponse.ok:\n",
    "            raise Exception(f'Login error: {authResponse.json()[\"message\"]}')\n",
    "\n",
    "        authToken = authResponse.json()['authToken']['token']\n",
    "        return authToken\n",
    "\n",
    "    def get(self, endpoint):\n",
    "        url = self._makeUrl(endpoint)\n",
    "        headers = {'Girder-Token': self.authToken} if self.authToken else None\n",
    "        return requests.get(url, headers=headers)\n",
    "\n",
    "    def getJson(self, endpoint):\n",
    "        return self.get(endpoint).json()\n",
    "\n",
    "    def getJsonList(self, endpoint):\n",
    "        endpoint += '&' if '?' in endpoint else '?'\n",
    "        LIMIT = 50\n",
    "        offset = 0\n",
    "        while True:\n",
    "            resp = self.get(\n",
    "                f'{endpoint}limit={LIMIT:d}&offset={offset:d}'\n",
    "            ).json()\n",
    "            if not resp:\n",
    "                break\n",
    "            for elem in resp:\n",
    "                yield elem\n",
    "            offset += LIMIT\n"
   ]
  },
  {
   "cell_type": "code",
   "execution_count": null,
   "metadata": {},
   "outputs": [],
   "source": [
    "import pandas as pd\n",
    "import os\n",
    "\n",
    "# Initialize the API; no login is necessary for public data\n",
    "api = ISICApi()\n",
    "# 文件保存路径\n",
    "savePath = '../Data/ISIC2017/Extra'\n",
    "# savePath = 'ISICArchive/'\n",
    "\n",
    "if not os.path.exists(savePath):\n",
    "    os.makedirs(savePath)\n",
    "\n",
    "# df_extra = df_add[~ df_add['image_id'].isin(df_train['image_id'])]\n",
    "df_extra = pd.read_csv(\"../Data/ISIC-2017_Training_Extra_Part3_GroundTruth.csv\")"
   ]
  },
  {
   "cell_type": "code",
   "execution_count": null,
   "metadata": {},
   "outputs": [],
   "source": [
    "print('Downloading %s images' % len(df_extra))\n",
    "imageDetails = []\n",
    "for _, image in df_extra.iterrows():\n",
    "    imageList = api.getJson('image?limit=1&offset=0&sort=name&name={}'.format(image['image_id']))[0]\n",
    "    print(\"Downloading {}, id = {}\".format(imageList['name'], imageList['_id']))\n",
    "    imageFileResp = api.get('image/%s/download' % imageList['_id'])\n",
    "    imageFileResp.raise_for_status()\n",
    "    imageFileOutputPath = os.path.join(savePath, '%s.jpg' % imageList['name'])\n",
    "    with open(imageFileOutputPath, 'wb') as imageFileOutputStream:\n",
    "        for chunk in imageFileResp:\n",
    "            imageFileOutputStream.write(chunk)"
   ]
  }
 ],
 "metadata": {
  "interpreter": {
   "hash": "06bb3c3ef4a880548ecfc5dc8501d178eb29b729421bcd01924945e985691c69"
  },
  "kernelspec": {
   "display_name": "Python 3",
   "language": "python",
   "name": "python3"
  },
  "language_info": {
   "codemirror_mode": {
    "name": "ipython",
    "version": 3
   },
   "file_extension": ".py",
   "mimetype": "text/x-python",
   "name": "python",
   "nbconvert_exporter": "python",
   "pygments_lexer": "ipython3",
   "version": "3.6.8"
  }
 },
 "nbformat": 4,
 "nbformat_minor": 4
}
